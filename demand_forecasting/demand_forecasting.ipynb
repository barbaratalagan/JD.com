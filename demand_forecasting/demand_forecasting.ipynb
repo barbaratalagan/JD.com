{
 "cells": [
  {
   "cell_type": "markdown",
   "id": "877a8e0b",
   "metadata": {},
   "source": [
    "Packages"
   ]
  },
  {
   "cell_type": "code",
   "execution_count": 1,
   "id": "f6171068",
   "metadata": {},
   "outputs": [],
   "source": [
    "import pandas as pd"
   ]
  },
  {
   "cell_type": "markdown",
   "id": "401546b8",
   "metadata": {},
   "source": [
    "Importing Data"
   ]
  },
  {
   "cell_type": "code",
   "execution_count": 2,
   "id": "f1dcb8b0",
   "metadata": {},
   "outputs": [],
   "source": [
    "#Change the file path to where you are keeping the data on your computer\n",
    "filepath = \"/Users/barbaratalagan/Desktop/Capstone/JD.com data/\"\n",
    "\n",
    "#df = pd.read_csv('file_path.csv', index_col=0) #how to import data\n",
    "sku_data = pd.read_csv(filepath + 'JD_sku_data.csv', index_col=0)\n",
    "\n",
    "users_data = pd.read_csv(filepath + 'JD_user_data.csv', index_col=0)\n",
    "\n",
    "clicks_data = pd.read_csv(filepath + 'JD_click_data.csv', index_col=0)\n",
    "\n",
    "orders_data = pd.read_csv(filepath + 'JD_order_data.csv', index_col=0)\n",
    "\n",
    "delivery_data = pd.read_csv(filepath + 'JD_delivery_data.csv', index_col=0)\n",
    "\n",
    "inventory_data = pd.read_csv(filepath + 'JD_inventory_data.csv', index_col=0)\n",
    "\n",
    "network_data = pd.read_csv(filepath + 'JD_network_data.csv', index_col=0)\n",
    "\n",
    "brand_sales_data = pd.read_csv(filepath + 'JD_sales_by_brand.csv', index_col=0)\n",
    "\n",
    "march_data = pd.read_excel(filepath + 'JD_March_2018_data.xlsx', index_col=0)"
   ]
  }
 ],
 "metadata": {
  "kernelspec": {
   "display_name": "Python 3 (ipykernel)",
   "language": "python",
   "name": "python3"
  },
  "language_info": {
   "codemirror_mode": {
    "name": "ipython",
    "version": 3
   },
   "file_extension": ".py",
   "mimetype": "text/x-python",
   "name": "python",
   "nbconvert_exporter": "python",
   "pygments_lexer": "ipython3",
   "version": "3.9.12"
  }
 },
 "nbformat": 4,
 "nbformat_minor": 5
}
